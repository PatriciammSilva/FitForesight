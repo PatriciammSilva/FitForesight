{
 "cells": [
  {
   "cell_type": "markdown",
   "metadata": {},
   "source": [
    "BIBLIOTECAS A IMPORTAR"
   ]
  },
  {
   "cell_type": "code",
   "execution_count": null,
   "metadata": {},
   "outputs": [],
   "source": [
    "import numpy as np\n",
    "import pandas as pd\n",
    "import matplotlib.pyplot as plt\n",
    "import seaborn as sns\n",
    "import sklearn \n",
    "import yellowbrick"
   ]
  },
  {
   "cell_type": "markdown",
   "metadata": {},
   "source": [
    "IMPORTAÇÃO DA BASE DE DADOS\n",
    "Composta por 119734 observações e 4 variáveis"
   ]
  },
  {
   "cell_type": "code",
   "execution_count": null,
   "metadata": {},
   "outputs": [],
   "source": [
    "dados = pd.read_csv('/Users/patriciasilva/Desktop/Dados 1 - Experiência/dados1.csv')\n",
    "print(dados.head())\n",
    "print(dados.shape)"
   ]
  },
  {
   "cell_type": "markdown",
   "metadata": {},
   "source": [
    "VALORES NA'S\n",
    "257 NA em age e 330 NA em height\n",
    "Substiuir NA's pela mediana da variável correspondente"
   ]
  },
  {
   "cell_type": "code",
   "execution_count": null,
   "metadata": {},
   "outputs": [],
   "source": [
    "print(dados.isna().sum())\n",
    "dados['age'] = dados['age'].fillna(dados['age'].median())\n",
    "dados['height'] = dados['height'].fillna(dados['height'].median())\n",
    "print(dados.isna().sum())\n",
    "print(dados.head())\n",
    "print(dados.shape)"
   ]
  },
  {
   "cell_type": "markdown",
   "metadata": {},
   "source": [
    "VARIÁVEIS NUMÉRICAS & GRÁFICOS"
   ]
  },
  {
   "cell_type": "code",
   "execution_count": null,
   "metadata": {},
   "outputs": [],
   "source": [
    "print(dados.describe())\n",
    "sns.boxplot([dados['weight'], dados['age'], dados['height']])\n",
    "print(plt.show())\n",
    "plt.boxplot([dados['weight'], dados['age'], dados['height']])  \n",
    "print(plt.show())  "
   ]
  },
  {
   "cell_type": "markdown",
   "metadata": {},
   "source": [
    "VARIÁVEL CATEGÓRICA E GRÁFICOS "
   ]
  },
  {
   "cell_type": "code",
   "execution_count": null,
   "metadata": {},
   "outputs": [],
   "source": [
    "print(dados.describe(include='object'))\n",
    "size1 = [9731, 21127, 28379, 16533, 17747, 63, 16025]\n",
    "bars = ('XXS', 'S', 'M', 'L', 'XL', 'XXL', 'XXXL')\n",
    "pos = np.arange(len(bars))\n",
    "plt.bar(pos, size1)\n",
    "print(plt.show())  \n",
    "sns.countplot(dados['size'])\n",
    "print(plt.show())  \n",
    "plt.pie(size1)\n",
    "print(plt.show()) "
   ]
  },
  {
   "cell_type": "markdown",
   "metadata": {},
   "source": [
    "VALORES OUTLIERS\n",
    "3510 valores outliers na variável weight; 6726 valores outliers na variável age;\n",
    "185 valores outliers na variável height"
   ]
  },
  {
   "cell_type": "code",
   "execution_count": null,
   "metadata": {},
   "outputs": [],
   "source": [
    "Q1 = dados['weight'].quantile(0.25)\n",
    "Q3 = dados['weight'].quantile(0.75)\n",
    "IQR = Q3 - Q1\n",
    "outw = dados[(dados['weight'] < Q1 - 1.5 * IQR) | (dados['weight'] > Q3 + 1.5 * IQR)]\n",
    "print(outw)\n",
    "print(outw.shape)\n",
    "\n",
    "Q1 = dados['age'].quantile(0.25)\n",
    "Q3 = dados['age'].quantile(0.75)\n",
    "IQR = Q3 - Q1\n",
    "outa = dados[(dados['age'] < Q1 - 1.5 * IQR) | (dados['age'] > Q3 + 1.5 * IQR)]\n",
    "print(outa)\n",
    "print(outa.shape)\n",
    "\n",
    "Q1 = dados['height'].quantile(0.25)\n",
    "Q3 = dados['height'].quantile(0.75)\n",
    "IQR = Q3 - Q1\n",
    "outh= dados[(dados['height'] < Q1 - 1.5 * IQR) | (dados['height'] > Q3 + 1.5 * IQR)]\n",
    "print(outh)\n",
    "print(outh.shape)"
   ]
  }
 ],
 "metadata": {
  "language_info": {
   "name": "python"
  }
 },
 "nbformat": 4,
 "nbformat_minor": 2
}
